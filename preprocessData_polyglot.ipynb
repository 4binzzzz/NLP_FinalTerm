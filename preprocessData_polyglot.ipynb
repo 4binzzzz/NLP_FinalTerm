{
 "cells": [
  {
   "cell_type": "code",
   "execution_count": 1,
   "id": "75b80255-6f21-4411-9362-dae298e5908b",
   "metadata": {},
   "outputs": [
    {
     "name": "stdout",
     "output_type": "stream",
     "text": [
      "변환 완료\n"
     ]
    }
   ],
   "source": [
    "import json\n",
    "import os\n",
    "\n",
    "# 원본 및 대상 디렉토리 경로\n",
    "source_dir = '공감형대화_데이터/Training/라벨링데이터'\n",
    "target_dir = 'conversation_data'\n",
    "\n",
    "# 대상 디렉토리 생성\n",
    "if not os.path.exists(target_dir):\n",
    "    os.makedirs(target_dir)\n",
    "\n",
    "# 원본 디렉토리에서 파일 목록 읽기\n",
    "files = os.listdir(source_dir)\n",
    "files = [file for file in files if file.endswith('.json')]  # JSON 파일만 선택\n",
    "\n",
    "# 파일 변환 및 저장\n",
    "for idx, file_name in enumerate(files):  # 첫 11041개 파일만 처리\n",
    "    with open(os.path.join(source_dir, file_name), 'r', encoding='utf-8') as file:\n",
    "        data = json.load(file)\n",
    "\n",
    "    new_data = {\n",
    "        \"id\": idx,\n",
    "        \"conversations\": []\n",
    "    }\n",
    "\n",
    "    # 대화 내용 변환\n",
    "    for utterance in data[\"utterances\"]:\n",
    "        role = 'speaker' if utterance['role'] == 'speaker' else 'listener'\n",
    "        new_data['conversations'].append({\n",
    "            \"role\": role,\n",
    "            \"text\": utterance['text']\n",
    "        })\n",
    "\n",
    "    # 새로운 형식의 파일 저장\n",
    "    new_file_name = f'conversation_{idx}.json'\n",
    "    with open(os.path.join(target_dir, new_file_name), 'w', encoding='utf-8') as new_file:\n",
    "        json.dump(new_data, new_file, ensure_ascii=False, indent=4)\n",
    "\n",
    "print(\"변환 완료\")"
   ]
  },
  {
   "cell_type": "code",
   "execution_count": null,
   "id": "278a43a8-7893-4370-a342-b84ce69df84d",
   "metadata": {},
   "outputs": [],
   "source": []
  }
 ],
 "metadata": {
  "kernelspec": {
   "display_name": "Python 3 (ipykernel)",
   "language": "python",
   "name": "python3"
  },
  "language_info": {
   "codemirror_mode": {
    "name": "ipython",
    "version": 3
   },
   "file_extension": ".py",
   "mimetype": "text/x-python",
   "name": "python",
   "nbconvert_exporter": "python",
   "pygments_lexer": "ipython3",
   "version": "3.11.7"
  }
 },
 "nbformat": 4,
 "nbformat_minor": 5
}
